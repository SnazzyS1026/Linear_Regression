{
 "cells": [
  {
   "cell_type": "code",
   "execution_count": 1,
   "id": "413afe8d",
   "metadata": {},
   "outputs": [],
   "source": [
    "from selenium import webdriver\n",
    "from selenium.webdriver.edge.service import Service\n",
    "from selenium.common.exceptions import WebDriverException\n",
    "from selenium.webdriver.common.by import By\n",
    "from selenium.webdriver.support.ui import Select\n",
    "from bs4 import BeautifulSoup as bs\n",
    "from time import sleep\n",
    "import requests\n",
    "import pandas as pd\n",
    "import numpy as np"
   ]
  },
  {
   "cell_type": "code",
   "execution_count": 2,
   "id": "3322fd1a",
   "metadata": {},
   "outputs": [],
   "source": [
    "# Make a url list\n",
    "url_base = 'https://hoopshype.com/salaries/players/'\n",
    "url_list = []\n",
    "a = 2021\n",
    "\n",
    "while a >= 1996:\n",
    "    b = a+1\n",
    "    new_url = url_base + str(a) + \"-\" + str(b)\n",
    "    a -=1\n",
    "    url_list.append(new_url)"
   ]
  },
  {
   "cell_type": "code",
   "execution_count": 3,
   "id": "6717cd2a",
   "metadata": {},
   "outputs": [
    {
     "data": {
      "text/plain": [
       "['https://hoopshype.com/salaries/players/2021-2022',\n",
       " 'https://hoopshype.com/salaries/players/2020-2021',\n",
       " 'https://hoopshype.com/salaries/players/2019-2020',\n",
       " 'https://hoopshype.com/salaries/players/2018-2019',\n",
       " 'https://hoopshype.com/salaries/players/2017-2018']"
      ]
     },
     "execution_count": 3,
     "metadata": {},
     "output_type": "execute_result"
    }
   ],
   "source": [
    "url_list[:5]"
   ]
  },
  {
   "cell_type": "code",
   "execution_count": null,
   "id": "c33d3419",
   "metadata": {},
   "outputs": [
    {
     "name": "stdout",
     "output_type": "stream",
     "text": [
      "Completed: 1 webpage(s) scraped.\n",
      "Completed: 2 webpage(s) scraped.\n",
      "Completed: 3 webpage(s) scraped.\n",
      "Completed: 4 webpage(s) scraped.\n",
      "Completed: 5 webpage(s) scraped.\n"
     ]
    }
   ],
   "source": [
    "dataframe_list = []\n",
    "n=1 # Make a counter to see how many webpages are scraped\n",
    "\n",
    "# Scrape stat table for each url in url_list\n",
    "for url in url_list:\n",
    "\n",
    "    # provide path to the Edge driver\n",
    "    s=Service(\"C:\\\\Users\\sandr\\OneDrive\\Desktop\\Drivers\\msedgedriver.exe\")\n",
    "    driver = webdriver.Edge(service=s)\n",
    "    \n",
    "    # Make python pause for some time\n",
    "    sleep(2)\n",
    "\n",
    "    # Get the page HTML\n",
    "    try:\n",
    "        driver.get(url)\n",
    "        # Make python pause for some time\n",
    "        sleep(3)\n",
    "    except WebDriverException:\n",
    "        print(\"Webdriver is acting immediately after ‘closing’ the browser\")\n",
    "\n",
    "    # Make python pause for some time\n",
    "    sleep(2)\n",
    "\n",
    "    # Use BeautifulSoup and lxml extension to parse, save in variable nba_soup\n",
    "    nba_soup = bs(driver.page_source, 'lxml')\n",
    "    \n",
    "    # Locate the table on the page\n",
    "    table = nba_soup.find('table', class_='hh-salaries-ranking-table hh-salaries-table-sortable responsive')\n",
    "   \n",
    "    # Find all the headers in the columns\n",
    "    headers=[]\n",
    "    for i in table.find_all('td')[1:4]:\n",
    "        title = i.text.replace(\"\\n\", \"\").strip()\n",
    "        headers.append(title)\n",
    "    \n",
    "    # Create a dataframe using the headers as column names\n",
    "    p_salary = pd.DataFrame(columns = headers) \n",
    "    \n",
    "    # Create a for loop to fill p_salary\n",
    "    for i in table.find_all('tr')[1:]:\n",
    "        row_data = i.find_all('td')[1:]\n",
    "        row =[j.text.replace(\"\\n\", \"\").strip() for j in row_data] \n",
    "        length = len(p_salary)\n",
    "        p_salary.loc[length] = row\n",
    "\n",
    "    print(\"Completed:\", n, \"webpage(s) scraped.\")\n",
    "    n +=1 # add 1 to counter every successful page retrieved\n",
    "        \n",
    "    # Close all browsers\n",
    "    driver.quit()\n",
    "\n",
    "    # Append table to list of dataframes\n",
    "    dataframe_list.append(p_salary)\n"
   ]
  },
  {
   "cell_type": "code",
   "execution_count": null,
   "id": "54e116ba",
   "metadata": {},
   "outputs": [],
   "source": [
    "dataframe_list"
   ]
  },
  {
   "cell_type": "code",
   "execution_count": null,
   "id": "2d7e1062",
   "metadata": {},
   "outputs": [],
   "source": []
  },
  {
   "cell_type": "code",
   "execution_count": null,
   "id": "1b7418ff",
   "metadata": {},
   "outputs": [],
   "source": []
  },
  {
   "cell_type": "code",
   "execution_count": null,
   "id": "7eaae1e4",
   "metadata": {},
   "outputs": [],
   "source": []
  },
  {
   "cell_type": "code",
   "execution_count": null,
   "id": "ee58da04",
   "metadata": {},
   "outputs": [],
   "source": [
    "test = dataframe_list[0].append(dataframe_list[1], ignore_index=True)\n",
    "test[650:700]"
   ]
  },
  {
   "cell_type": "code",
   "execution_count": null,
   "id": "1dbdba91",
   "metadata": {},
   "outputs": [],
   "source": [
    "# Concat all the dataframes into one table\n",
    "salaries = pd.concat(dataframe_list, ignore_index=True)\n",
    "salaries"
   ]
  },
  {
   "cell_type": "code",
   "execution_count": null,
   "id": "77218f8f",
   "metadata": {},
   "outputs": [],
   "source": [
    "player1 = salaries[:][salaries['Player'].notna()]\n",
    "player1"
   ]
  },
  {
   "cell_type": "code",
   "execution_count": null,
   "id": "1ce888c9",
   "metadata": {},
   "outputs": [],
   "source": []
  },
  {
   "cell_type": "code",
   "execution_count": null,
   "id": "d19e2447",
   "metadata": {},
   "outputs": [],
   "source": [
    "test = dataframe_list[0][dataframe_list[0]['Player'] == 'Stephen Curry']\n",
    "test"
   ]
  },
  {
   "cell_type": "code",
   "execution_count": null,
   "id": "567e069d",
   "metadata": {},
   "outputs": [],
   "source": [
    "test2 = dataframe_list[1][dataframe_list[1]['Player'] == 'Stephen Curry']\n",
    "test2"
   ]
  },
  {
   "cell_type": "code",
   "execution_count": null,
   "id": "3600bcd4",
   "metadata": {},
   "outputs": [],
   "source": [
    "test3 = pd.merge(test, test2, on='Player', how='right')"
   ]
  },
  {
   "cell_type": "code",
   "execution_count": null,
   "id": "ee87a049",
   "metadata": {},
   "outputs": [],
   "source": [
    "test3"
   ]
  },
  {
   "cell_type": "code",
   "execution_count": null,
   "id": "f8c1e12f",
   "metadata": {},
   "outputs": [],
   "source": []
  },
  {
   "cell_type": "code",
   "execution_count": null,
   "id": "df17e6b7",
   "metadata": {},
   "outputs": [],
   "source": [
    "curry = pd.read_csv('curry.csv', encoding='utf-8', index_col=[0])"
   ]
  },
  {
   "cell_type": "code",
   "execution_count": null,
   "id": "e8481e9d",
   "metadata": {},
   "outputs": [],
   "source": [
    "curry"
   ]
  },
  {
   "cell_type": "code",
   "execution_count": null,
   "id": "a1c25d42",
   "metadata": {},
   "outputs": [],
   "source": []
  },
  {
   "cell_type": "code",
   "execution_count": null,
   "id": "ac52017c",
   "metadata": {},
   "outputs": [],
   "source": [
    "curry_sal = pd.merge(curry, test3, left_on=\"PLAYER\", right_on=\"Player\")\n",
    "curry_sal"
   ]
  },
  {
   "cell_type": "code",
   "execution_count": null,
   "id": "cfca3e98",
   "metadata": {},
   "outputs": [],
   "source": []
  },
  {
   "cell_type": "code",
   "execution_count": null,
   "id": "b4a889e4",
   "metadata": {},
   "outputs": [],
   "source": [
    "curry_sal2 = pd.merge(curry, test3.set_index(\"Player\"), left_on=\"PLAYER\", right_index=True)\n",
    "curry_sal2"
   ]
  },
  {
   "cell_type": "code",
   "execution_count": null,
   "id": "475da7ad",
   "metadata": {},
   "outputs": [],
   "source": []
  },
  {
   "cell_type": "code",
   "execution_count": null,
   "id": "d579459d",
   "metadata": {},
   "outputs": [],
   "source": []
  },
  {
   "cell_type": "code",
   "execution_count": null,
   "id": "d1ab8587",
   "metadata": {},
   "outputs": [],
   "source": []
  },
  {
   "cell_type": "code",
   "execution_count": null,
   "id": "2d7ab183",
   "metadata": {},
   "outputs": [],
   "source": [
    "# Concat all the dataframes into one table\n",
    "p_salaries = pd.concat(dataframe_list, ignore_index=True)\n",
    "p_salaries"
   ]
  },
  {
   "cell_type": "code",
   "execution_count": null,
   "id": "a8686ccc",
   "metadata": {},
   "outputs": [],
   "source": []
  }
 ],
 "metadata": {
  "kernelspec": {
   "display_name": "Python [conda env:metis] *",
   "language": "python",
   "name": "conda-env-metis-py"
  },
  "language_info": {
   "codemirror_mode": {
    "name": "ipython",
    "version": 3
   },
   "file_extension": ".py",
   "mimetype": "text/x-python",
   "name": "python",
   "nbconvert_exporter": "python",
   "pygments_lexer": "ipython3",
   "version": "3.9.12"
  }
 },
 "nbformat": 4,
 "nbformat_minor": 5
}
